{
 "cells": [
  {
   "cell_type": "markdown",
   "metadata": {},
   "source": [
    "# MNIST Hand Written Numbers Detection\n",
    "\n",
    "Test demo here: https://jonneokkonen.com/HandWrittenNumbersDetection/\n",
    "\n",
    "Read Paper here: https://jonneokkonen.com/docs/tietorakenteet_ja_algoritmit_teko%C3%A4ly_ja_koneoppiminen.pdf\n",
    "\n",
    "Demo source: https://github.com/JonneOkkonen/HandWrittenNumbersDetection"
   ]
  },
  {
   "cell_type": "code",
   "execution_count": 1,
   "metadata": {},
   "outputs": [
    {
     "name": "stdout",
     "output_type": "stream",
     "text": [
      "Tensorflow Version: 2.3.0\n",
      "Train images: (60000, 28, 28)\n",
      "Train labels: 60000\n",
      "Test images: (10000, 28, 28)\n",
      "Test labels: 10000\n"
     ]
    },
    {
     "data": {
      "text/plain": [
       "<matplotlib.image.AxesImage at 0x20d14671a60>"
      ]
     },
     "execution_count": 1,
     "metadata": {},
     "output_type": "execute_result"
    },
    {
     "data": {
      "image/png": "[encoded data removed]",
      "text/plain": [
       "<Figure size 432x288 with 1 Axes>"
      ]
     },
     "metadata": {
      "needs_background": "light"
     },
     "output_type": "display_data"
    }
   ],
   "source": [
    "# -*- coding: utf-8 -*-\n",
    "\"\"\"\n",
    "Created on 5.12.2019\n",
    "\n",
    "@author: Jonne Okkonen\n",
    "\"\"\"\n",
    "\n",
    "from __future__ import absolute_import, division, print_function, unicode_literals\n",
    "\n",
    "# TensorFlow and tf.keras librarys\n",
    "import tensorflow as tf\n",
    "from tensorflow import keras\n",
    "import matplotlib.pyplot as plt\n",
    "\n",
    "print(\"Tensorflow Version: \" + str(tf.__version__))\n",
    "\n",
    "# Load MNIST Data\n",
    "(X_train, y_train), (X_test, y_test) = tf.keras.datasets.mnist.load_data()\n",
    "\n",
    "class_names = ['0','1','2','3','4','5','6','7','8','9']\n",
    "\n",
    "print(\"Train images: \" + str(X_train.shape))\n",
    "print(\"Train labels: \" + str(len(y_train)))\n",
    "\n",
    "print(\"Test images: \" + str(X_test.shape))\n",
    "print(\"Test labels: \" + str(len(y_test)))\n",
    "\n",
    "plt.imshow(X_train[2], cmap='Greys')"
   ]
  },
  {
   "cell_type": "code",
   "execution_count": 2,
   "metadata": {},
   "outputs": [
    {
     "name": "stdout",
     "output_type": "stream",
     "text": [
      "Epoch 1/5\n",
      "12000/12000 [==============================] - 9s 766us/step - loss: 0.2029 - accuracy: 0.9401\n",
      "Epoch 2/5\n",
      "12000/12000 [==============================] - 9s 754us/step - loss: 0.0950 - accuracy: 0.9704\n",
      "Epoch 3/5\n",
      "12000/12000 [==============================] - 9s 756us/step - loss: 0.0674 - accuracy: 0.9790\n",
      "Epoch 4/5\n",
      "12000/12000 [==============================] - 9s 764us/step - loss: 0.0522 - accuracy: 0.9836\n",
      "Epoch 5/5\n",
      "12000/12000 [==============================] - 9s 758us/step - loss: 0.0433 - accuracy: 0.9863\n",
      "\n",
      "Results:\n",
      "313/313 [==============================] - 0s 698us/step - loss: 0.0873 - accuracy: 0.9782\n",
      "\n",
      "Test accuracy: 0.9782000184059143\n"
     ]
    }
   ],
   "source": [
    "# Preprosessing\n",
    "# Scale 0 to 255 RGB values to range 0 to 1 for training and testing images\n",
    "X_train = X_train / 255.0\n",
    "X_test = X_test / 255.0\n",
    "\n",
    "# Create Network Model\n",
    "model = keras.Sequential([\n",
    "    keras.layers.Flatten(input_shape=(28, 28)),\n",
    "    keras.layers.Dense(128, activation='relu'),\n",
    "    keras.layers.Dense(10, activation='softmax')\n",
    "])\n",
    "\n",
    "# Compile Model\n",
    "model.compile(optimizer=tf.keras.optimizers.Adam(0.001),\n",
    "              loss='sparse_categorical_crossentropy',\n",
    "              metrics=['accuracy'])\n",
    "\n",
    "# Train Model\n",
    "model.fit(X_train, y_train, epochs = 5, batch_size = 5)\n",
    "\n",
    "# Test 10 000 number\n",
    "print(\"\\nResults:\")\n",
    "test_loss, test_acc = model.evaluate(X_test, y_test)\n",
    "print('\\nTest accuracy:', test_acc)"
   ]
  }
 ],
 "metadata": {
  "kernelspec": {
   "display_name": "Python [conda env:tensorflow-cpu]",
   "language": "python",
   "name": "conda-env-tensorflow-cpu-py"
  },
  "language_info": {
   "codemirror_mode": {
    "name": "ipython",
    "version": 3
   },
   "file_extension": ".py",
   "mimetype": "text/x-python",
   "name": "python",
   "nbconvert_exporter": "python",
   "pygments_lexer": "ipython3",
   "version": "3.8.5"
  }
 },
 "nbformat": 4,
 "nbformat_minor": 4
}
